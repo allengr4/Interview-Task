# Run this cell first to load the numpy and matplotlib.pyplot modules
import numpy as np
# load graphics
import matplotlib.pyplot as plt
%matplotlib inline
