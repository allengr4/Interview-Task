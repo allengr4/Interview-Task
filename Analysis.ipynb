import numpy
data = numpy.loadtxt("myfile.csv")
print('data')
