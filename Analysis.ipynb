# Run this cell first to load the numpy and matplotlib.pyplot modules
import numpy as np
