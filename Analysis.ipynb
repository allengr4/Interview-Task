arr = numpy.array[(0,0,0,0,0,0)]
