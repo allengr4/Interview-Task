import csv
with open(data.csv, 'rb') as f:
    data = array(csv.reader(f))
