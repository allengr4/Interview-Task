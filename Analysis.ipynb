import numpy as np
data = np.loadtxt("myfile.csv")
print(data)
